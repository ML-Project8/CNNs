{
 "cells": [
  {
   "cell_type": "markdown",
   "metadata": {},
   "source": [
    "## Yo this notebook is lit"
   ]
  },
  {
   "cell_type": "code",
   "execution_count": 1,
   "metadata": {
    "collapsed": true
   },
   "outputs": [],
   "source": [
    "import pandas as pd\n",
    "import numpy as np\n",
    "#from skimage.io import imshow\n",
    "from sklearn.model_selection import train_test_split"
   ]
  },
  {
   "cell_type": "code",
   "execution_count": 2,
   "metadata": {},
   "outputs": [
    {
     "name": "stderr",
     "output_type": "stream",
     "text": [
      "Using TensorFlow backend.\n"
     ]
    }
   ],
   "source": [
    "import keras\n",
    "from keras.datasets import cifar10\n",
    "(X_train, y_train), (X_test, y_test) = cifar10.load_data()\n",
    "class_labels = ['airplane', 'automobile', 'bird', 'cat', 'deer', 'dog', 'frog', 'horse', 'ship', 'truck']\n",
    "y_train_labels = [class_labels[int(val)] for val in y_train]\n",
    "h = 32\n",
    "w = 32\n",
    "\n",
    "X_train = X_train/255.0\n",
    "X_test = X_test/255.0\n",
    "X_train = X_train - 1/2\n",
    "X_test = X_test - 1/2\n",
    "\n",
    "# Takes only the classes we are concerned with \n",
    "sub_sample = [1, 4, 9]\n",
    "X_sub_train = []\n",
    "y_sub_train = []\n",
    "for i in range(0,len(y_train)):\n",
    "    if y_train[i][0] in sub_sample:\n",
    "        X_sub_train.append(X_train[i])\n",
    "        if y_train[i][0] == 1 or y_train[i][0] == 9:\n",
    "            y_sub_train.append([0])\n",
    "        if y_train[i][0] == 4:\n",
    "            y_sub_train.append([1])\n",
    "\n",
    "        \n",
    "X_sub_test = []\n",
    "y_sub_test = []\n",
    "for i in range(0,len(y_test)):\n",
    "    if y_test[i][0] in sub_sample:\n",
    "        X_sub_test.append(X_test[i])\n",
    "        # If it's a truck or automobile\n",
    "        if y_test[i][0] == 1 or y_test[i][0] == 9:\n",
    "            y_sub_test.append([0])\n",
    "        # If it's a deer\n",
    "        if y_test[i][0] == 4:\n",
    "            y_sub_test.append([1])\n",
    "\n",
    "X_sub_train = np.array(X_sub_train)\n",
    "X_sub_test = np.array(X_sub_test)\n",
    "y_sub_train = np.array(y_sub_train)\n",
    "y_sub_test = np.array(y_sub_test)\n",
    "        \n",
    "sub_class_labels = ['automobile', 'deer']\n",
    "y_sub_train_labels = [sub_class_labels[int(val)] for val in y_sub_train]\n",
    "\n",
    "NUM_CLASSES = len(sub_class_labels)\n",
    "y_sub_train_ohe = keras.utils.to_categorical(y_sub_train, NUM_CLASSES)\n",
    "y_sub_test_ohe = keras.utils.to_categorical(y_sub_test, NUM_CLASSES)"
   ]
  },
  {
   "cell_type": "code",
   "execution_count": 3,
   "metadata": {
    "collapsed": true
   },
   "outputs": [],
   "source": [
    "#print(X_sub_train)\n",
    "#print(X_train)"
   ]
  },
  {
   "cell_type": "code",
   "execution_count": 4,
   "metadata": {
    "collapsed": true
   },
   "outputs": [],
   "source": [
    "#imshow(X_sub_train[0].squeeze())"
   ]
  },
  {
   "cell_type": "code",
   "execution_count": 5,
   "metadata": {},
   "outputs": [
    {
     "name": "stdout",
     "output_type": "stream",
     "text": [
      "15000\n",
      "15000\n",
      "3000\n",
      "3000\n"
     ]
    }
   ],
   "source": [
    "print(len(X_sub_train))\n",
    "print(len(y_sub_train))\n",
    "print(len(X_sub_test))\n",
    "print(len(y_sub_test))"
   ]
  },
  {
   "cell_type": "code",
   "execution_count": 6,
   "metadata": {
    "collapsed": true
   },
   "outputs": [],
   "source": [
    "#X_c = np.concatenate([X_train,X_test], axis=0)\n",
    "#y_c = np.concatenate([y_train,y_test], axis=0).flatten()\n",
    "#vectorized_color = np.reshape(X_c,(len(X_c),32*32,3))\n",
    "#color_pixels = np.reshape(vectorized_color,(len(vectorized_color)*32*32,3))"
   ]
  },
  {
   "cell_type": "code",
   "execution_count": 7,
   "metadata": {
    "collapsed": true
   },
   "outputs": [],
   "source": [
    "#bw_pixels = [(0.21*pixel[0])+(0.72*pixel[1])+(0.07*pixel[2]) for pixel in color_pixels]#convert rgb to b/w\n",
    "#vectorized_bw = np.reshape(bw_pixels,(len(X),32*32))#reconstruct to list in image vectors\n",
    "#vectorized_bw.dump(\"data/vectorized_bw\")"
   ]
  },
  {
   "cell_type": "code",
   "execution_count": 8,
   "metadata": {},
   "outputs": [
    {
     "data": {
      "text/plain": [
       "'vectorized_bw_all = np.load(\"data/vectorized_bw\")\\nprint(vectorized_bw_all.shape)\\n\\n#we might need these DF\\'s later\\ndf_bw = pd.DataFrame(data=vectorized_bw_all)\\ndf_bw = df_bw.assign(y=pd.Series(y,name=\\'y\\'))\\n#df_bw_sample = df_bw.sample(5000)\\nX = df_bw.drop(\\'y\\', axis=1).as_matrix()\\ny = df_bw.y.as_matrix()\\nprint(X.shape)\\nprint(y.shape)'"
      ]
     },
     "execution_count": 8,
     "metadata": {},
     "output_type": "execute_result"
    }
   ],
   "source": [
    "'''vectorized_bw_all = np.load(\"data/vectorized_bw\")\n",
    "print(vectorized_bw_all.shape)\n",
    "\n",
    "#we might need these DF's later\n",
    "df_bw = pd.DataFrame(data=vectorized_bw_all)\n",
    "df_bw = df_bw.assign(y=pd.Series(y,name='y'))\n",
    "#df_bw_sample = df_bw.sample(5000)\n",
    "X = df_bw.drop('y', axis=1).as_matrix()\n",
    "y = df_bw.y.as_matrix()\n",
    "print(X.shape)\n",
    "print(y.shape)'''\n",
    "#now, we can do cv or a train test split"
   ]
  },
  {
   "cell_type": "code",
   "execution_count": 9,
   "metadata": {
    "collapsed": true
   },
   "outputs": [],
   "source": [
    "#X_train, X_test, y_train, y_test = train_test_split(X, y, test_size=0.2)"
   ]
  },
  {
   "cell_type": "code",
   "execution_count": 10,
   "metadata": {
    "collapsed": true
   },
   "outputs": [],
   "source": [
    "from keras.models import Sequential\n",
    "from keras.layers import Reshape\n",
    "from keras.layers import Dense, Dropout, Activation, Flatten\n",
    "from keras.layers import Conv2D, MaxPooling2D\n",
    "from keras.preprocessing.image import ImageDataGenerator\n",
    "from keras.callbacks import EarlyStopping\n",
    "from keras.regularizers import l2\n",
    "from keras.layers import average \n",
    "from keras.models import Input, Model\n",
    "from sklearn import datasets, metrics\n",
    "from sklearn.model_selection import train_test_split"
   ]
  },
  {
   "cell_type": "markdown",
   "metadata": {},
   "source": [
    "## CNN #1 "
   ]
  },
  {
   "cell_type": "code",
   "execution_count": null,
   "metadata": {},
   "outputs": [],
   "source": [
    "%%time\n",
    "\n",
    "from keras.layers import average \n",
    "from keras.models import Input, Model\n",
    "from keras.callbacks import EarlyStopping\n",
    "from keras.regularizers import l2 \n",
    "l2_lambda = 0.0001\n",
    "\n",
    "input_holder = Input(shape=(w, h, 3))\n",
    "conv1 = Conv2D(filters=32,\n",
    "               input_shape = (w,h,1),\n",
    "               kernel_size=(3,3),\n",
    "               kernel_initializer='he_uniform', \n",
    "               kernel_regularizer=l2(l2_lambda),\n",
    "               padding='same', \n",
    "               activation='relu')(input_holder)\n",
    "\n",
    "max1 = MaxPooling2D(pool_size=(2, 2), data_format=\"channels_last\")(conv1)\n",
    "\n",
    "conv2 = Conv2D(filters=32,\n",
    "               kernel_size=(3,3),\n",
    "               kernel_initializer='he_uniform', \n",
    "               kernel_regularizer=l2(l2_lambda),\n",
    "               padding='same', \n",
    "               activation='relu')(max1)\n",
    "\n",
    "max2 = MaxPooling2D(pool_size=(2, 2), data_format=\"channels_last\")(conv2)\n",
    "\n",
    "\n",
    "# add one layer on flattened output\n",
    "drop1 = Dropout(0.25)(max2) # add some dropout for regularization after conv layers\n",
    "flat1 = Flatten()(drop1)\n",
    "dense1 = Dense(128, \n",
    "              activation='relu',\n",
    "              kernel_initializer='he_uniform',\n",
    "              kernel_regularizer=l2(l2_lambda)\n",
    "            )(flat1)\n",
    "drop2 = Dropout(0.5)(dense1) # add some dropout for regularization, again!\n",
    "dense2_1 = Dense(NUM_CLASSES, \n",
    "              activation='sigmoid', \n",
    "              kernel_initializer='glorot_uniform',\n",
    "              kernel_regularizer=l2(l2_lambda)\n",
    "             )(drop2)\n",
    "\n",
    "cnn1 = Model(inputs=input_holder,outputs=dense2_1)\n",
    "\n",
    "# Let's train the model \n",
    "cnn1.compile(loss='binary_crossentropy', # 'categorical_crossentropy' 'mean_squared_error'\n",
    "                optimizer='rmsprop', # 'adadelta' 'rmsprop'\n",
    "                metrics=['accuracy'])\n",
    "\n",
    "# the flow method yields batches of images indefinitely, with the given transofmrations\n",
    "cnn1.fit(X_sub_train, y_sub_train_ohe,\n",
    "                      #steps_per_epoch=int(len(X_sub_train)/128), # how many generators to go through per epoch\n",
    "                      epochs=10, verbose=1,\n",
    "                      validation_data=(X_sub_test,y_sub_test_ohe),\n",
    "                      callbacks=[EarlyStopping(monitor='val_loss', patience=4)]\n",
    "                     )"
   ]
  },
  {
   "cell_type": "code",
   "execution_count": null,
   "metadata": {},
   "outputs": [],
   "source": [
    "yhat_cnn = np.argmax(cnn1.predict(X_sub_test), axis=1)\n",
    "rec_cnn = mt.recall_score(y_sub_test,yhat_cnn)\n",
    "acc_cnn = mt.accuracy_score(y_sub_test,yhat_cnn)\n",
    "print(\"Recall: \", rec_cnn)\n",
    "print(\"Accuracy: \", acc_cnn)"
   ]
  },
  {
   "cell_type": "markdown",
   "metadata": {},
   "source": [
    "## CNN #1 with Data Expansion"
   ]
  },
  {
   "cell_type": "code",
   "execution_count": null,
   "metadata": {
    "collapsed": true
   },
   "outputs": [],
   "source": [
    "datagen = ImageDataGenerator(featurewise_center=False,\n",
    "    samplewise_center=False,\n",
    "    featurewise_std_normalization=False,\n",
    "    samplewise_std_normalization=False,\n",
    "    zca_whitening=False,\n",
    "    rotation_range=5, # used, Int. Degree range for random rotations.\n",
    "    width_shift_range=0.1, # used, Float (fraction of total width). Range for random horizontal shifts.\n",
    "    height_shift_range=0.1, # used,  Float (fraction of total height). Range for random vertical shifts.\n",
    "    shear_range=0., # Float. Shear Intensity (Shear angle in counter-clockwise direction as radians)\n",
    "    zoom_range=0.,\n",
    "    channel_shift_range=0.,\n",
    "    fill_mode='nearest',\n",
    "    cval=0.,\n",
    "    horizontal_flip=False,\n",
    "    vertical_flip=False,\n",
    "    rescale=None)"
   ]
  },
  {
   "cell_type": "code",
   "execution_count": null,
   "metadata": {},
   "outputs": [],
   "source": [
    "cnn1_de = Model(inputs=input_holder,outputs=dense2_1)\n",
    "\n",
    "# Let's train the model \n",
    "cnn1_de.compile(loss='binary_crossentropy', # 'categorical_crossentropy' 'mean_squared_error'\n",
    "                optimizer='rmsprop', # 'adadelta' 'rmsprop'\n",
    "                metrics=['accuracy'])\n",
    "\n",
    "datagen.fit(X_sub_train)\n",
    "cnn1_de.fit_generator(datagen.flow(X_sub_train, y_sub_train_ohe, batch_size=128), \n",
    "                      steps_per_epoch=int(len(X_sub_train)/128), # how many generators to go through per epoch\n",
    "                      epochs=10, verbose=1,\n",
    "                      validation_data=(X_sub_test,y_sub_test_ohe),\n",
    "                      callbacks=[EarlyStopping(monitor='val_loss', patience=4)]\n",
    "                     )"
   ]
  },
  {
   "cell_type": "code",
   "execution_count": null,
   "metadata": {},
   "outputs": [],
   "source": [
    "yhat_cnn = np.argmax(cnn1_de.predict(X_sub_test), axis=1)\n",
    "rec_cnn = mt.recall_score(y_sub_test,yhat_cnn)\n",
    "acc_cnn = mt.accuracy_score(y_sub_test,yhat_cnn)\n",
    "print(\"Recall: \", rec_cnn)\n",
    "print(\"Accuracy: \", acc_cnn)"
   ]
  },
  {
   "cell_type": "markdown",
   "metadata": {},
   "source": [
    "## CNN #2: LeNet5"
   ]
  },
  {
   "cell_type": "code",
   "execution_count": null,
   "metadata": {
    "collapsed": true
   },
   "outputs": [],
   "source": [
    "from keras.layers.normalization import BatchNormalization\n",
    "\n",
    "l2_lambda = 0.0001\n",
    "input_holder = Input(shape=(w, h, 3))\n",
    "\n",
    "conv1 = Conv2D(filters=6,kernel_size=(5,5),\n",
    "               input_shape = (img_wh,img_wh,1), \n",
    "               padding='valid', \n",
    "               kernel_initializer='he_uniform', \n",
    "               kernel_regularizer=l2(l2_lambda))(input_holder)\n",
    "max1 = MaxPooling2D(pool_size=(2, 2), data_format=\"channels_last\")(conv1)\n",
    "batch1 = BatchNormalization()(max1)\n",
    "activ1 = Activation(\"sigmoid\")(batch1)\n",
    "\n",
    "conv2 = Conv2D(filters=16,kernel_size=(5,5), \n",
    "               padding='valid', \n",
    "               kernel_initializer='he_uniform', \n",
    "               kernel_regularizer=l2(l2_lambda))(activ1)\n",
    "max2 = MaxPooling2D(pool_size=(2, 2), data_format=\"channels_last\")(conv2)\n",
    "batch2 = BatchNormalization()(max2)\n",
    "activ2 = Activation(\"sigmoid\")(batch2)\n",
    "\n",
    "conv3 = Conv2D(filters=120,kernel_size=(1,1), \n",
    "               padding='valid', \n",
    "               kernel_initializer='he_uniform', \n",
    "               kernel_regularizer=l2(l2_lambda))(activ2)\n",
    "\n",
    "\n",
    "# add one layer on flattened output\n",
    "#drop1 = Dropout(0.25)(max2) # add some dropout for regularization after conv layers\n",
    "flat1 = Flatten()(conv3)\n",
    "dense1 = Dense(128, \n",
    "              activation='relu',\n",
    "              kernel_initializer='he_uniform',\n",
    "              kernel_regularizer=l2(l2_lambda)\n",
    "            )(flat1)\n",
    "drop2 = Dropout(0.5)(dense1) # add some dropout for regularization, again!\n",
    "dense2_2 = Dense(NUM_CLASSES, \n",
    "              activation='sigmoid', \n",
    "              kernel_initializer='glorot_uniform',\n",
    "              kernel_regularizer=l2(l2_lambda)\n",
    "             )(drop2)"
   ]
  },
  {
   "cell_type": "code",
   "execution_count": null,
   "metadata": {},
   "outputs": [],
   "source": [
    "cnn2 = Model(inputs=input_holder,outputs=dense2_2)\n",
    "\n",
    "# Let's train the model \n",
    "cnn2.compile(loss=w_categorical_crossentropy, # 'categorical_crossentropy' 'mean_squared_error'\n",
    "                optimizer='rmsprop', # 'adadelta' 'rmsprop'\n",
    "                metrics=['accuracy'])\n",
    "\n",
    "# the flow method yields batches of images indefinitely, with the given transofmrations\n",
    "cnn2.fit(X_sub_train, y_sub_train_ohe,\n",
    "                      #steps_per_epoch=int(len(X_sub_train)/128), # how many generators to go through per epoch\n",
    "                      epochs=10, verbose=1,\n",
    "                      validation_data=(X_sub_test,y_sub_test_ohe),\n",
    "                      callbacks=[EarlyStopping(monitor='val_loss', patience=4)]\n",
    "                     )"
   ]
  },
  {
   "cell_type": "code",
   "execution_count": null,
   "metadata": {},
   "outputs": [],
   "source": [
    "yhat_cnn = np.argmax(cnn2.predict(X_sub_test), axis=1)\n",
    "rec_cnn = mt.recall_score(y_sub_test,yhat_cnn)\n",
    "acc_cnn = mt.accuracy_score(y_sub_test,yhat_cnn)\n",
    "print(\"Recall: \", rec_cnn)\n",
    "print(\"Accuracy: \", acc_cnn)"
   ]
  },
  {
   "cell_type": "markdown",
   "metadata": {},
   "source": [
    "## CNN #2: LeNet5 with Data Expansion"
   ]
  },
  {
   "cell_type": "code",
   "execution_count": 12,
   "metadata": {
    "collapsed": true
   },
   "outputs": [],
   "source": [
    "datagen = ImageDataGenerator(featurewise_center=False,\n",
    "    samplewise_center=False,\n",
    "    featurewise_std_normalization=False,\n",
    "    samplewise_std_normalization=False,\n",
    "    zca_whitening=False,\n",
    "    rotation_range=5, # used, Int. Degree range for random rotations.\n",
    "    width_shift_range=0.1, # used, Float (fraction of total width). Range for random horizontal shifts.\n",
    "    height_shift_range=0.1, # used,  Float (fraction of total height). Range for random vertical shifts.\n",
    "    shear_range=0., # Float. Shear Intensity (Shear angle in counter-clockwise direction as radians)\n",
    "    zoom_range=0.,\n",
    "    channel_shift_range=0.,\n",
    "    fill_mode='nearest',\n",
    "    cval=0.,\n",
    "    horizontal_flip=False,\n",
    "    vertical_flip=False,\n",
    "    rescale=None)"
   ]
  },
  {
   "cell_type": "code",
   "execution_count": null,
   "metadata": {},
   "outputs": [],
   "source": [
    "cnn2_de = Model(inputs=input_holder,outputs=dense2_2)\n",
    "\n",
    "# Let's train the model \n",
    "cnn2_de.compile(loss='binary_crossentropy', # 'categorical_crossentropy' 'mean_squared_error'\n",
    "                optimizer='rmsprop', # 'adadelta' 'rmsprop'\n",
    "                metrics=['accuracy'])\n",
    "\n",
    "datagen.fit(X_sub_train)\n",
    "cnn2_de.fit_generator(datagen.flow(X_sub_train, y_sub_train_ohe, batch_size=128), \n",
    "                      steps_per_epoch=int(len(X_sub_train)/128), # how many generators to go through per epoch\n",
    "                      epochs=10, verbose=1,\n",
    "                      validation_data=(X_sub_test,y_sub_test_ohe),\n",
    "                      callbacks=[EarlyStopping(monitor='val_loss', patience=4)]\n",
    "                     )"
   ]
  },
  {
   "cell_type": "code",
   "execution_count": null,
   "metadata": {},
   "outputs": [],
   "source": [
    "yhat_cnn = np.argmax(cnn2_de.predict(X_sub_test), axis=1)\n",
    "rec_cnn = mt.recall_score(y_sub_test,yhat_cnn)\n",
    "acc_cnn = mt.accuracy_score(y_sub_test,yhat_cnn)\n",
    "print(\"Recall: \", rec_cnn)\n",
    "print(\"Accuracy: \", acc_cnn)"
   ]
  },
  {
   "cell_type": "markdown",
   "metadata": {},
   "source": [
    "## CNN #1 Ensemble"
   ]
  },
  {
   "cell_type": "code",
   "execution_count": null,
   "metadata": {},
   "outputs": [],
   "source": [
    "%%time\n",
    "\n",
    "from keras.layers import average \n",
    "from keras.models import Input, Model\n",
    "from keras.callbacks import EarlyStopping\n",
    "from keras.regularizers import l2 \n",
    "l2_lambda = 0.0001\n",
    "\n",
    "num_ensembles = 5\n",
    "\n",
    "input_holder = Input(shape=(w, h, 3))\n",
    "\n",
    "branches = []\n",
    "for _ in range(num_ensembles):\n",
    "\n",
    "    conv1 = Conv2D(filters=32,\n",
    "                   input_shape = (w,h,1),\n",
    "                   kernel_size=(3,3),\n",
    "                   kernel_initializer='he_uniform', \n",
    "                   kernel_regularizer=l2(l2_lambda),\n",
    "                   padding='same', \n",
    "                   activation='relu')(input_holder)\n",
    "    \n",
    "    max1 = MaxPooling2D(pool_size=(2, 2), data_format=\"channels_last\")(conv1)\n",
    "\n",
    "    conv2 = Conv2D(filters=32,\n",
    "                   kernel_size=(3,3),\n",
    "                   kernel_initializer='he_uniform', \n",
    "                   kernel_regularizer=l2(l2_lambda),\n",
    "                   padding='same', \n",
    "                   activation='relu')(max1)\n",
    "    \n",
    "    max2 = MaxPooling2D(pool_size=(2, 2), data_format=\"channels_last\")(conv2)\n",
    "\n",
    "\n",
    "    # add one layer on flattened output\n",
    "    drop1 = Dropout(0.25)(max2) # add some dropout for regularization after conv layers\n",
    "    flat1 = Flatten()(drop1)\n",
    "    dense1 = Dense(128, \n",
    "                  activation='relu',\n",
    "                  kernel_initializer='he_uniform',\n",
    "                  kernel_regularizer=l2(l2_lambda)\n",
    "                )(flat1)\n",
    "    drop2 = Dropout(0.5)(dense1) # add some dropout for regularization, again!\n",
    "    dense2 = Dense(NUM_CLASSES, \n",
    "                  activation='sigmoid', \n",
    "                  kernel_initializer='glorot_uniform',\n",
    "                  kernel_regularizer=l2(l2_lambda)\n",
    "                 )(drop2)\n",
    "    \n",
    "    # now add this branch onto the master list\n",
    "    branches.append(dense2)\n",
    "\n",
    "# that's it, we just need to average the results\n",
    "ave1 = average(branches)\n",
    "\n",
    "# here is the secret sauce for setting the network using the \n",
    "#   Model API:\n",
    "cnn_ens1 = Model(inputs=input_holder,outputs=ave1)\n",
    "\n",
    "# Let's train the model \n",
    "cnn_ens1.compile(loss=w_categorical_crossentropy, # 'categorical_crossentropy' 'mean_squared_error'\n",
    "                optimizer='rmsprop', # 'adadelta' 'rmsprop'\n",
    "                metrics=['accuracy'])\n",
    "\n",
    "# the flow method yields batches of images indefinitely, with the given transofmrations\n",
    "cnn_ens1.fit_generator(datagen.flow(X_sub_train, y_sub_train_ohe, batch_size=128), \n",
    "                      steps_per_epoch=int(len(X_sub_train)/128), # how many generators to go through per epoch\n",
    "                      epochs=10, verbose=1,\n",
    "                      validation_data=(X_sub_test,y_sub_test_ohe),\n",
    "                      callbacks=[EarlyStopping(monitor='val_loss', patience=4)])"
   ]
  },
  {
   "cell_type": "code",
   "execution_count": null,
   "metadata": {},
   "outputs": [],
   "source": [
    "yhat_cnn = np.argmax(cnn_ens1.predict(X_sub_test), axis=1)\n",
    "rec_cnn = mt.recall_score(y_sub_test,yhat_cnn)\n",
    "acc_cnn = mt.accuracy_score(y_sub_test,yhat_cnn)\n",
    "print(\"Recall: \", rec_cnn)\n",
    "print(\"Accuracy: \", acc_cnn)"
   ]
  },
  {
   "cell_type": "code",
   "execution_count": null,
   "metadata": {},
   "outputs": [],
   "source": [
    "yhat_cnn = np.argmax(cnn1.predict(X_sub_test), axis=1)\n",
    "rec_cnn = mt.recall_score(y_sub_test,yhat_cnn)\n",
    "acc_cnn = mt.accuracy_score(y_sub_test,yhat_cnn)\n",
    "print(\"Recall: \", rec_cnn)\n",
    "print(\"Accuracy: \", acc_cnn)"
   ]
  },
  {
   "cell_type": "code",
   "execution_count": null,
   "metadata": {
    "collapsed": true
   },
   "outputs": [],
   "source": []
  },
  {
   "cell_type": "markdown",
   "metadata": {},
   "source": [
    "# OKAY BOIS WE JUST TRYNA GET THAT CROSS VALIDATION WORKIN"
   ]
  },
  {
   "cell_type": "code",
   "execution_count": 28,
   "metadata": {},
   "outputs": [
    {
     "name": "stdout",
     "output_type": "stream",
     "text": [
      "Epoch 1/2\n",
      "58/58 [==============================] - 9s - loss: 0.4378 - acc: 0.8244 - val_loss: 0.2915 - val_acc: 0.8901\n",
      "Epoch 2/2\n",
      "58/58 [==============================] - 9s - loss: 0.3059 - acc: 0.8873 - val_loss: 0.2411 - val_acc: 0.9083\n",
      "Recall:  0.760625501203\n",
      "Accuracy:  0.9088\n",
      "-----------------------\n",
      "Epoch 1/2\n",
      "58/58 [==============================] - 9s - loss: 0.5115 - acc: 0.7808 - val_loss: 0.3229 - val_acc: 0.8858\n",
      "Epoch 2/2\n",
      "58/58 [==============================] - 8s - loss: 0.3518 - acc: 0.8663 - val_loss: 0.2459 - val_acc: 0.9173\n",
      "Recall:  0.852354349561\n",
      "Accuracy:  0.917866666667\n",
      "-----------------------\n"
     ]
    }
   ],
   "source": [
    "from sklearn.model_selection import KFold\n",
    "import sklearn.metrics as mt\n",
    "from numpy import interp\n",
    "from sklearn.metrics import roc_curve, auc\n",
    "l2_lambda = 0.0001\n",
    "\n",
    "#####Locus######\n",
    "mlp_roc_auc = []\n",
    "cnn_roc_auc = []\n",
    "mean_tpr_mlp = 0.0\n",
    "mean_fpr_mlp = np.linspace(0, 1, 100)\n",
    "mean_tpr_cnn = 0.0\n",
    "mean_fpr_cnn = np.linspace(0, 1, 100)\n",
    "#####Locus######\n",
    "\n",
    "num_folds = 2 #Locus\n",
    "model_list1 = []\n",
    "yhat_list1 = []\n",
    "y_test_list1 = []\n",
    "\n",
    "skf = KFold(n_splits=num_folds).split(X_sub_train, y_sub_train_ohe)\n",
    "for k, (train_indices, test_indices) in enumerate(skf):\n",
    "    cv_X_train = np.array(X_sub_train[train_indices])\n",
    "    cv_y_train = np.array(y_sub_train[train_indices])\n",
    "    cv_y_train_ohe = np.array(y_sub_train_ohe[train_indices])\n",
    "    \n",
    "    cv_X_test = np.array(X_sub_train[test_indices])\n",
    "    cv_y_test = np.array(y_sub_train[test_indices])\n",
    "    cv_y_test_ohe = np.array(y_sub_train_ohe[test_indices])\n",
    "    \n",
    "    \n",
    "    input_holder = Input(shape=(w, h, 3))\n",
    "    conv1 = Conv2D(filters=32,\n",
    "                   input_shape = (w,h,1),\n",
    "                   kernel_size=(3,3),\n",
    "                   kernel_initializer='he_uniform', \n",
    "                   kernel_regularizer=l2(l2_lambda),\n",
    "                   padding='same', \n",
    "                   activation='relu')(input_holder)\n",
    "\n",
    "    max1 = MaxPooling2D(pool_size=(2, 2), data_format=\"channels_last\")(conv1)\n",
    "\n",
    "    conv2 = Conv2D(filters=32,\n",
    "                   kernel_size=(3,3),\n",
    "                   kernel_initializer='he_uniform', \n",
    "                   kernel_regularizer=l2(l2_lambda),\n",
    "                   padding='same', \n",
    "                   activation='relu')(max1)\n",
    "\n",
    "    max2 = MaxPooling2D(pool_size=(2, 2), data_format=\"channels_last\")(conv2)\n",
    "\n",
    "\n",
    "    # add one layer on flattened output\n",
    "    drop1 = Dropout(0.25)(max2) # add some dropout for regularization after conv layers\n",
    "    flat1 = Flatten()(drop1)\n",
    "    dense1 = Dense(128, \n",
    "                  activation='relu',\n",
    "                  kernel_initializer='he_uniform',\n",
    "                  kernel_regularizer=l2(l2_lambda)\n",
    "                )(flat1)\n",
    "    drop2 = Dropout(0.5)(dense1) # add some dropout for regularization, again!\n",
    "    dense2_1 = Dense(2, \n",
    "                  activation='sigmoid', \n",
    "                  kernel_initializer='glorot_uniform',\n",
    "                  kernel_regularizer=l2(l2_lambda)\n",
    "                 )(drop2)\n",
    "    cnn1_de = Model(inputs=input_holder,outputs=dense2_1)\n",
    "\n",
    "    # Let's train the model \n",
    "    cnn1_de.compile(loss='binary_crossentropy', # 'categorical_crossentropy' 'mean_squared_error'\n",
    "                    optimizer='rmsprop', # 'adadelta' 'rmsprop'\n",
    "                    metrics=['accuracy'])\n",
    "    datagen.fit(cv_X_train)\n",
    "    cnn1_de.fit_generator(datagen.flow(cv_X_train, cv_y_train_ohe, batch_size=128), \n",
    "                          steps_per_epoch=int(len(cv_X_train)/128), # how many generators to go through per epoch\n",
    "                          epochs=2, verbose=1,\n",
    "                          validation_data=(cv_X_test, cv_y_test_ohe)\n",
    "                          #callbacks=[EarlyStopping(monitor='val_loss', patience=4)]\n",
    "                         )\n",
    "    \n",
    "    yhat = np.argmax(cnn1_de.predict(cv_X_test), axis=1)\n",
    "    rec_cnn = mt.recall_score(cv_y_test,yhat)\n",
    "    acc_cnn = mt.accuracy_score(cv_y_test,yhat)\n",
    "    print(\"Recall: \", rec_cnn)\n",
    "    print(\"Accuracy: \", acc_cnn)\n",
    "    print(\"-----------------------\")\n",
    "    model_list1.append(cnn1_de)\n",
    "    yhat_list1.append(yhat)\n",
    "    y_test_list1.append(cv_y_test)\n",
    "    \n",
    "    \n",
    "    #####Locus######\n",
    "    probs_cnn = list(cnn1_de.predict(cv_X_test))\n",
    "    probs_cnn = np.array(probs_cnn)[:,1]\n",
    "    fpr_cnn, tpr_cnn, _ = roc_curve(cv_y_test, probs_cnn)\n",
    "    cnn_roc_auc.append((fpr_cnn, tpr_cnn, auc(fpr_cnn, tpr_cnn)))\n",
    "    mean_tpr_cnn += interp(mean_fpr_cnn, fpr_cnn, tpr_cnn)\n",
    "    mean_tpr_cnn[0] = 0.0   \n",
    "\n",
    "# TODO: uncomment when we add the MLP\n",
    "#     probs_mlp = mlp.predict_proba(X_test_mlp)\n",
    "#     probs_mlp = np.array(probs_mlp)[:,1]\n",
    "#     fpr_mlp, tpr_mlp, _ = roc_curve(y_test, probs_mlp)\n",
    "#     mlp_roc_auc.append((fpr_mlp, tpr_mlp, auc(fpr_mlp, tpr_mlp)))\n",
    "#     mean_tpr_mlp  += interp(mean_fpr_mlp, fpr_mlp, tpr_mlp)\n",
    "#     mean_tpr_mlp [0] = 0.0"
   ]
  },
  {
   "cell_type": "code",
   "execution_count": null,
   "metadata": {},
   "outputs": [],
   "source": []
  },
  {
   "cell_type": "code",
   "execution_count": 31,
   "metadata": {},
   "outputs": [],
   "source": [
    "# TODO: uncomment when we add the MLP\n",
    "# mean_tpr_mlp /= n_splits\n",
    "# mean_tpr_mlp[-1] = 1.0\n",
    "# mean_auc_mlp = auc(mean_fpr_mlp, mean_tpr_mlp)\n",
    "\n",
    "mean_tpr_cnn /= num_folds\n",
    "mean_tpr_cnn[-1] = 1.0\n",
    "mean_auc_cnn = auc(mean_fpr_cnn, mean_tpr_cnn)"
   ]
  },
  {
   "cell_type": "code",
   "execution_count": 32,
   "metadata": {},
   "outputs": [
    {
     "data": {
      "image/png": "[encoded data removed]",
      "text/plain": [
       "<matplotlib.figure.Figure at 0x159c8a978>"
      ]
     },
     "metadata": {},
     "output_type": "display_data"
    }
   ],
   "source": [
    "import matplotlib.pyplot as plt\n",
    "\n",
    "plt.figure()\n",
    "lw = 2\n",
    "i = 0\n",
    "for fpr, tpr, auc_ in cnn_roc_auc:\n",
    "        plt.plot(fpr, tpr, color='darkorange',\n",
    "             lw=lw, label='ROC curve # %d (CNN) (area = %0.2f)' % (i, auc_))\n",
    "        i += 1\n",
    "# TODO: uncomment when we add the MLP\n",
    "# for fpr, tpr, auc_ in mlp_roc_auc:\n",
    "#         plt.plot(fpr, tpr, color='green',\n",
    "#              lw=lw, label='ROC curve # %d (MLP) (area = %0.2f)' % (i, auc_))\n",
    "#         i += 1        \n",
    "        \n",
    "# plt.plot(mean_fpr_mlp, mean_tpr_mlp, 'k--', label='mean ROC (MLP) (area = %0.2f)' % mean_auc_mlp, lw=2)\n",
    "plt.plot(mean_fpr_cnn, mean_tpr_cnn, 'k-', label='mean ROC (CNN) (area = %0.2f)' % mean_auc_cnn, lw=2)\n",
    "\n",
    "plt.plot([0, 1], [0, 1], color='navy', lw=lw, linestyle='--')\n",
    "plt.xlim([0.0, 1.0])\n",
    "plt.ylim([0.0, 1.05])\n",
    "plt.xlabel('False Positive Rate')\n",
    "plt.ylabel('True Positive Rate')\n",
    "plt.title('Receiver operating characteristic example')\n",
    "plt.legend(loc=\"lower right\")\n",
    "plt.show()"
   ]
  },
  {
   "cell_type": "code",
   "execution_count": null,
   "metadata": {
    "collapsed": true
   },
   "outputs": [],
   "source": []
  },
  {
   "cell_type": "markdown",
   "metadata": {},
   "source": [
    "## \"Luke's\" loss function"
   ]
  },
  {
   "cell_type": "code",
   "execution_count": null,
   "metadata": {
    "collapsed": true
   },
   "outputs": [],
   "source": [
    "from keras import backend as K\n",
    "import functools\n",
    "from itertools import product\n",
    "import tensorflow as tf\n",
    "weights=np.array([[1,0],[-1,1]])\n",
    "def w_categorical_crossentropy(y_true, y_pred):\n",
    "    nb_cl = len(weights)\n",
    "    final_mask = K.zeros_like(y_pred[:, 0])\n",
    "    y_pred_max = K.max(y_pred, axis=1)\n",
    "    y_pred_max = tf.expand_dims(y_pred_max, 1)\n",
    "    y_pred_max_mat = K.equal(y_pred, y_pred_max)\n",
    "    for c_p, c_t in product(range(nb_cl), range(nb_cl)):\n",
    "\n",
    "        final_mask += (K.cast(weights[c_t, c_p],K.floatx()) * K.cast(y_pred_max_mat[:, c_p] ,K.floatx())* K.cast(y_true[:, c_t],K.floatx()))\n",
    "    return K.categorical_crossentropy(y_pred, y_true) * final_mask"
   ]
  },
  {
   "cell_type": "code",
   "execution_count": null,
   "metadata": {
    "collapsed": true
   },
   "outputs": [],
   "source": []
  },
  {
   "cell_type": "code",
   "execution_count": null,
   "metadata": {
    "collapsed": true
   },
   "outputs": [],
   "source": []
  },
  {
   "cell_type": "code",
   "execution_count": null,
   "metadata": {
    "collapsed": true
   },
   "outputs": [],
   "source": []
  },
  {
   "cell_type": "code",
   "execution_count": null,
   "metadata": {},
   "outputs": [],
   "source": [
    "%%time\n",
    "\n",
    "from keras.layers import average \n",
    "from keras.models import Input, Model\n",
    "from keras.callbacks import EarlyStopping\n",
    "from keras.regularizers import l2 \n",
    "l2_lambda = 0.0001\n",
    "\n",
    "num_ensembles = 5\n",
    "\n",
    "input_holder = Input(shape=(w, h, 3))\n",
    "\n",
    "branches = []\n",
    "for _ in range(num_ensembles):\n",
    "\n",
    "    conv1 = Conv2D(filters=32,\n",
    "                   input_shape = (w,h,1),\n",
    "                   kernel_size=(3,3),\n",
    "                   kernel_initializer='he_uniform', \n",
    "                   kernel_regularizer=l2(l2_lambda),\n",
    "                   padding='same', \n",
    "                   activation='relu')(input_holder)\n",
    "    \n",
    "    max1 = MaxPooling2D(pool_size=(2, 2), data_format=\"channels_last\")(conv1)\n",
    "\n",
    "    conv2 = Conv2D(filters=32,\n",
    "                   kernel_size=(3,3),\n",
    "                   kernel_initializer='he_uniform', \n",
    "                   kernel_regularizer=l2(l2_lambda),\n",
    "                   padding='same', \n",
    "                   activation='relu')(max1)\n",
    "    \n",
    "    max2 = MaxPooling2D(pool_size=(2, 2), data_format=\"channels_last\")(conv2)\n",
    "\n",
    "\n",
    "    # add one layer on flattened output\n",
    "    drop1 = Dropout(0.25)(max2) # add some dropout for regularization after conv layers\n",
    "    flat1 = Flatten()(drop1)\n",
    "    dense1 = Dense(128, \n",
    "                  activation='relu',\n",
    "                  kernel_initializer='he_uniform',\n",
    "                  kernel_regularizer=l2(l2_lambda)\n",
    "                )(flat1)\n",
    "    drop2 = Dropout(0.5)(dense1) # add some dropout for regularization, again!\n",
    "    dense2 = Dense(NUM_CLASSES, \n",
    "                  activation='sigmoid', \n",
    "                  kernel_initializer='glorot_uniform',\n",
    "                  kernel_regularizer=l2(l2_lambda)\n",
    "                 )(drop2)\n",
    "    \n",
    "    # now add this branch onto the master list\n",
    "    branches.append(dense2)\n",
    "\n",
    "# that's it, we just need to average the results\n",
    "ave = average(branches)\n",
    "\n",
    "# here is the secret sauce for setting the network using the \n",
    "#   Model API:\n",
    "cnn_ens2 = Model(inputs=input_holder,outputs=ave)\n",
    "\n",
    "# Let's train the model \n",
    "cnn_ens2.compile(loss='binary_crossentropy', # 'categorical_crossentropy' 'mean_squared_error'\n",
    "                optimizer='rmsprop', # 'adadelta' 'rmsprop'\n",
    "                metrics=['accuracy'])\n",
    "\n",
    "# the flow method yields batches of images indefinitely, with the given transofmrations\n",
    "cnn_ens2.fit_generator(datagen.flow(X_sub_train, y_sub_train_ohe, batch_size=128), \n",
    "                      steps_per_epoch=int(len(X_sub_train)/128), # how many generators to go through per epoch\n",
    "                      epochs=10, verbose=1,\n",
    "                      validation_data=(X_sub_test,y_sub_test_ohe),\n",
    "                      callbacks=[EarlyStopping(monitor='val_loss', patience=4)]\n",
    "                     )"
   ]
  },
  {
   "cell_type": "code",
   "execution_count": null,
   "metadata": {},
   "outputs": [],
   "source": [
    "from sklearn import metrics as mt\n",
    "yhat_cnn = np.argmax(cnn_ens.predict(X_sub_test), axis=1)\n",
    "rec_cnn = mt.recall_score(y_sub_test,yhat_cnn)\n",
    "acc_cnn = mt.accuracy_score(y_sub_test,yhat_cnn)\n",
    "print(\"Recall: \", rec_cnn)\n",
    "print(\"Accuracy: \", acc_cnn)"
   ]
  },
  {
   "cell_type": "code",
   "execution_count": null,
   "metadata": {},
   "outputs": [],
   "source": [
    "yhat_cnn = np.argmax(cnn_ens2.predict(X_sub_test), axis=1)\n",
    "rec_cnn = mt.recall_score(y_sub_test,yhat_cnn)\n",
    "acc_cnn = mt.accuracy_score(y_sub_test,yhat_cnn)\n",
    "print(\"Recall: \", rec_cnn)\n",
    "print(\"Accuracy: \", acc_cnn)"
   ]
  },
  {
   "cell_type": "code",
   "execution_count": null,
   "metadata": {
    "collapsed": true
   },
   "outputs": [],
   "source": []
  },
  {
   "cell_type": "code",
   "execution_count": null,
   "metadata": {
    "collapsed": true
   },
   "outputs": [],
   "source": []
  },
  {
   "cell_type": "code",
   "execution_count": null,
   "metadata": {
    "collapsed": true
   },
   "outputs": [],
   "source": []
  },
  {
   "cell_type": "code",
   "execution_count": null,
   "metadata": {
    "collapsed": true
   },
   "outputs": [],
   "source": []
  },
  {
   "cell_type": "code",
   "execution_count": null,
   "metadata": {
    "collapsed": true
   },
   "outputs": [],
   "source": []
  },
  {
   "cell_type": "code",
   "execution_count": null,
   "metadata": {
    "collapsed": true
   },
   "outputs": [],
   "source": []
  },
  {
   "cell_type": "code",
   "execution_count": null,
   "metadata": {
    "collapsed": true
   },
   "outputs": [],
   "source": []
  },
  {
   "cell_type": "code",
   "execution_count": null,
   "metadata": {
    "collapsed": true
   },
   "outputs": [],
   "source": []
  },
  {
   "cell_type": "code",
   "execution_count": null,
   "metadata": {
    "collapsed": true
   },
   "outputs": [],
   "source": [
    "from IPython.display import SVG\n",
    "from keras.utils.vis_utils import model_to_dot\n",
    "\n",
    "#SVG(model_to_dot(cnn2_de).create(prog='dot', format='svg'))"
   ]
  },
  {
   "cell_type": "code",
   "execution_count": null,
   "metadata": {},
   "outputs": [],
   "source": [
    "from keras.layers.normalization import BatchNormalization\n",
    "l2_lambda = 0.0001\n",
    "\n",
    "num_ensembles = 10\n",
    "input_holder = Input(shape=(w, h, 3))\n",
    "branches_le5 = []\n",
    "for _ in range(num_ensembles):\n",
    "    conv1 = Conv2D(filters=6,kernel_size=(5,5),\n",
    "                   input_shape = (img_wh,img_wh,1), \n",
    "                   padding='valid', \n",
    "                   kernel_initializer='he_uniform', \n",
    "                   kernel_regularizer=l2(l2_lambda))(input_holder)\n",
    "    max1 = MaxPooling2D(pool_size=(2, 2), data_format=\"channels_last\")(conv1)\n",
    "    batch1 = BatchNormalization()(max1)\n",
    "    activ1 = Activation(\"sigmoid\")(batch1)\n",
    "\n",
    "    conv2 = Conv2D(filters=16,kernel_size=(5,5), \n",
    "                   padding='valid', \n",
    "                   kernel_initializer='he_uniform', \n",
    "                   kernel_regularizer=l2(l2_lambda))(activ1)\n",
    "    max2 = MaxPooling2D(pool_size=(2, 2), data_format=\"channels_last\")(conv2)\n",
    "    batch2 = BatchNormalization()(max2)\n",
    "    activ2 = Activation(\"sigmoid\")(batch2)\n",
    "\n",
    "    conv3 = Conv2D(filters=120,kernel_size=(1,1), \n",
    "                   padding='valid', \n",
    "                   kernel_initializer='he_uniform', \n",
    "                   kernel_regularizer=l2(l2_lambda))(activ2)\n",
    "\n",
    "\n",
    "    # add one layer on flattened output\n",
    "    #drop1 = Dropout(0.25)(max2) # add some dropout for regularization after conv layers\n",
    "    flat1 = Flatten()(conv3)\n",
    "    dense1 = Dense(128, \n",
    "                  activation='relu',\n",
    "                  kernel_initializer='he_uniform',\n",
    "                  kernel_regularizer=l2(l2_lambda)\n",
    "                )(flat1)\n",
    "    drop2 = Dropout(0.5)(dense1) # add some dropout for regularization, again!\n",
    "    dense2 = Dense(NUM_CLASSES, \n",
    "                  activation='sigmoid', \n",
    "                  kernel_initializer='glorot_uniform',\n",
    "                  kernel_regularizer=l2(l2_lambda)\n",
    "                 )(drop2)\n",
    "    branches_le5.append(dense2)\n",
    "\n",
    "# that's it, we just need to average the results\n",
    "ave_le5 = average(branches_le5)   \n",
    "\n",
    "\n",
    "cnn_le5 = Model(inputs=input_holder,outputs=ave_le5)\n",
    "\n",
    "# Let's train the model \n",
    "cnn_le5.compile(loss='binary_crossentropy', # 'categorical_crossentropy' 'mean_squared_error'\n",
    "                optimizer='rmsprop', # 'adadelta' 'rmsprop'\n",
    "                metrics=['accuracy'])\n",
    "\n",
    "# the flow method yields batches of images indefinitely, with the given transofmrations\n",
    "cnn_le5.fit_generator(datagen.flow(X_sub_train, y_sub_train_ohe, batch_size=128), \n",
    "                      steps_per_epoch=int(len(X_sub_train)/128), # how many generators to go through per epoch\n",
    "                      epochs=10, verbose=1,\n",
    "                      validation_data=(X_sub_test,y_sub_test_ohe),\n",
    "                      callbacks=[EarlyStopping(monitor='val_loss', patience=4)]\n",
    "                     )"
   ]
  },
  {
   "cell_type": "code",
   "execution_count": null,
   "metadata": {
    "collapsed": true
   },
   "outputs": [],
   "source": []
  },
  {
   "cell_type": "code",
   "execution_count": null,
   "metadata": {
    "collapsed": true
   },
   "outputs": [],
   "source": []
  },
  {
   "cell_type": "code",
   "execution_count": null,
   "metadata": {},
   "outputs": [],
   "source": [
    "from keras.callbacks import EarlyStopping\n",
    "from keras.regularizers import l2 \n",
    "l2_lambda = 0.0001\n",
    "img_wh = 32\n",
    "\n",
    "# Use Kaiming He to regularize ReLU layers: https://arxiv.org/pdf/1502.01852.pdf\n",
    "# Use Glorot/Bengio for linear/sigmoid/softmax: http://proceedings.mlr.press/v9/glorot10a/glorot10a.pdf \n",
    "cnn = Sequential()\n",
    "\n",
    "cnn.add(Conv2D(filters=32,\n",
    "               input_shape = (img_wh,img_wh,1),\n",
    "               kernel_size=(3,3),\n",
    "               kernel_initializer='he_uniform', \n",
    "               kernel_regularizer=l2(l2_lambda),\n",
    "               padding='same', \n",
    "               activation='relu')) # more compact syntax\n",
    "cnn.add(MaxPooling2D(pool_size=(2, 2), data_format=\"channels_last\"))\n",
    "\n",
    "cnn.add(Conv2D(filters=32,\n",
    "               kernel_size=(3,3),\n",
    "               kernel_initializer='he_uniform', \n",
    "               kernel_regularizer=l2(l2_lambda),\n",
    "               padding='same', \n",
    "               activation='relu'))\n",
    "cnn.add(MaxPooling2D(pool_size=(2, 2), data_format=\"channels_last\"))\n",
    "    \n",
    "\n",
    "# add one layer on flattened output\n",
    "cnn.add(Dropout(0.25)) # add some dropout for regularization after conv layers\n",
    "cnn.add(Flatten())\n",
    "cnn.add(Dense(128, \n",
    "              activation='relu',\n",
    "              kernel_initializer='he_uniform',\n",
    "              kernel_regularizer=l2(l2_lambda)\n",
    "       ))\n",
    "cnn.add(Dropout(0.5)) # add some dropout for regularization, again!\n",
    "cnn.add(Dense(NUM_CLASSES, \n",
    "              activation='softmax', \n",
    "              kernel_initializer='glorot_uniform',\n",
    "              kernel_regularizer=l2(l2_lambda)\n",
    "             ))\n",
    "\n",
    "# Let's train the model \n",
    "cnn.compile(loss='categorical_crossentropy', # 'categorical_crossentropy' 'mean_squared_error'\n",
    "              optimizer='rmsprop', # 'adadelta' 'rmsprop'\n",
    "              metrics=['accuracy'])\n",
    "\n",
    "# the flow method yields batches of images indefinitely, with the given transofmrations\n",
    "cnn.fit_generator(datagen.flow(X_subtrain, y_train_ohe, batch_size=128), \n",
    "                  steps_per_epoch=int(len(X_train)/128), # how many generators to go through per epoch\n",
    "                  epochs=50, verbose=1,\n",
    "                  validation_data=(X_sub_test,y_test_ohe),\n",
    "                  callbacks=[EarlyStopping(monitor='val_loss', patience=2)]\n",
    "                 )"
   ]
  },
  {
   "cell_type": "code",
   "execution_count": null,
   "metadata": {
    "collapsed": true
   },
   "outputs": [],
   "source": []
  }
 ],
 "metadata": {
  "kernelspec": {
   "display_name": "Python 3",
   "language": "python",
   "name": "python3"
  },
  "language_info": {
   "codemirror_mode": {
    "name": "ipython",
    "version": 3
   },
   "file_extension": ".py",
   "mimetype": "text/x-python",
   "name": "python",
   "nbconvert_exporter": "python",
   "pygments_lexer": "ipython3",
   "version": "3.6.2"
  }
 },
 "nbformat": 4,
 "nbformat_minor": 2
}
